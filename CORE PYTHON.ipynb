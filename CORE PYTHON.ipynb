{
 "cells": [
  {
   "cell_type": "markdown",
   "id": "0d3ebb8c",
   "metadata": {},
   "source": [
    "BASIC CODES OF PYTHON:"
   ]
  },
  {
   "cell_type": "markdown",
   "id": "ebdb3e35",
   "metadata": {},
   "source": [
    "DATA TYPES:\n",
    "1. NUMERIC "
   ]
  },
  {
   "cell_type": "code",
   "execution_count": null,
   "id": "bfdddc2a",
   "metadata": {},
   "outputs": [],
   "source": [
    "a=1\n",
    "int(a)"
   ]
  },
  {
   "cell_type": "code",
   "execution_count": 2,
   "id": "9176b379",
   "metadata": {},
   "outputs": [
    {
     "data": {
      "text/plain": [
       "1"
      ]
     },
     "execution_count": 2,
     "metadata": {},
     "output_type": "execute_result"
    }
   ],
   "source": [
    "a=1.1\n",
    "int(a)"
   ]
  },
  {
   "cell_type": "code",
   "execution_count": 3,
   "id": "37db178b",
   "metadata": {},
   "outputs": [
    {
     "data": {
      "text/plain": [
       "1.0"
      ]
     },
     "execution_count": 3,
     "metadata": {},
     "output_type": "execute_result"
    }
   ],
   "source": [
    "float(int(a))"
   ]
  },
  {
   "cell_type": "code",
   "execution_count": 1,
   "id": "61f19a4c",
   "metadata": {},
   "outputs": [
    {
     "data": {
      "text/plain": [
       "False"
      ]
     },
     "execution_count": 1,
     "metadata": {},
     "output_type": "execute_result"
    }
   ],
   "source": [
    "a=10\n",
    "isinstance(a,float)"
   ]
  },
  {
   "cell_type": "code",
   "execution_count": 2,
   "id": "cb16e73e",
   "metadata": {},
   "outputs": [
    {
     "data": {
      "text/plain": [
       "True"
      ]
     },
     "execution_count": 2,
     "metadata": {},
     "output_type": "execute_result"
    }
   ],
   "source": [
    "a=10\n",
    "isinstance(a,int)"
   ]
  },
  {
   "cell_type": "code",
   "execution_count": 4,
   "id": "ebd53e75",
   "metadata": {},
   "outputs": [
    {
     "data": {
      "text/plain": [
       "bool"
      ]
     },
     "execution_count": 4,
     "metadata": {},
     "output_type": "execute_result"
    }
   ],
   "source": [
    "b1=True\n",
    "type(b1)"
   ]
  },
  {
   "cell_type": "code",
   "execution_count": 5,
   "id": "2b48e3d8",
   "metadata": {},
   "outputs": [
    {
     "data": {
      "text/plain": [
       "1"
      ]
     },
     "execution_count": 5,
     "metadata": {},
     "output_type": "execute_result"
    }
   ],
   "source": [
    "int(True)\n"
   ]
  },
  {
   "cell_type": "code",
   "execution_count": 6,
   "id": "d50dd882",
   "metadata": {
    "scrolled": true
   },
   "outputs": [
    {
     "data": {
      "text/plain": [
       "0"
      ]
     },
     "execution_count": 6,
     "metadata": {},
     "output_type": "execute_result"
    }
   ],
   "source": [
    "int(False)"
   ]
  },
  {
   "cell_type": "code",
   "execution_count": 7,
   "id": "4ce5fce2",
   "metadata": {},
   "outputs": [
    {
     "data": {
      "text/plain": [
       "0"
      ]
     },
     "execution_count": 7,
     "metadata": {},
     "output_type": "execute_result"
    }
   ],
   "source": [
    "\n",
    "int(False)"
   ]
  },
  {
   "cell_type": "code",
   "execution_count": 8,
   "id": "a2f0fda8",
   "metadata": {},
   "outputs": [
    {
     "data": {
      "text/plain": [
       "0.0"
      ]
     },
     "execution_count": 8,
     "metadata": {},
     "output_type": "execute_result"
    }
   ],
   "source": [
    "float(False)"
   ]
  },
  {
   "cell_type": "code",
   "execution_count": 9,
   "id": "dd2608bd",
   "metadata": {},
   "outputs": [
    {
     "data": {
      "text/plain": [
       "complex"
      ]
     },
     "execution_count": 9,
     "metadata": {},
     "output_type": "execute_result"
    }
   ],
   "source": [
    "a=9+10j\n",
    "type(a)"
   ]
  },
  {
   "cell_type": "code",
   "execution_count": 10,
   "id": "1fa88415",
   "metadata": {},
   "outputs": [
    {
     "data": {
      "text/plain": [
       "9.0"
      ]
     },
     "execution_count": 10,
     "metadata": {},
     "output_type": "execute_result"
    }
   ],
   "source": [
    "a.real"
   ]
  },
  {
   "cell_type": "code",
   "execution_count": 11,
   "id": "1685ae85",
   "metadata": {},
   "outputs": [
    {
     "data": {
      "text/plain": [
       "9"
      ]
     },
     "execution_count": 11,
     "metadata": {},
     "output_type": "execute_result"
    }
   ],
   "source": [
    "int(a.real)"
   ]
  },
  {
   "cell_type": "code",
   "execution_count": 12,
   "id": "1e90af05",
   "metadata": {},
   "outputs": [
    {
     "data": {
      "text/plain": [
       "10.0"
      ]
     },
     "execution_count": 12,
     "metadata": {},
     "output_type": "execute_result"
    }
   ],
   "source": [
    "a.imag"
   ]
  },
  {
   "cell_type": "code",
   "execution_count": 13,
   "id": "5c5eee5b",
   "metadata": {},
   "outputs": [
    {
     "data": {
      "text/plain": [
       "(10+5j)"
      ]
     },
     "execution_count": 13,
     "metadata": {},
     "output_type": "execute_result"
    }
   ],
   "source": [
    "complex(10,5)"
   ]
  },
  {
   "cell_type": "code",
   "execution_count": 14,
   "id": "84c52d71",
   "metadata": {},
   "outputs": [
    {
     "name": "stdout",
     "output_type": "stream",
     "text": [
      "run\n"
     ]
    }
   ],
   "source": [
    "a='run'\n",
    "print(a)"
   ]
  },
  {
   "cell_type": "code",
   "execution_count": 15,
   "id": "701659a4",
   "metadata": {},
   "outputs": [
    {
     "data": {
      "text/plain": [
       "str"
      ]
     },
     "execution_count": 15,
     "metadata": {},
     "output_type": "execute_result"
    }
   ],
   "source": [
    "type(a)"
   ]
  },
  {
   "cell_type": "code",
   "execution_count": 16,
   "id": "dbe06df0",
   "metadata": {},
   "outputs": [
    {
     "name": "stdout",
     "output_type": "stream",
     "text": [
      "arun\n",
      "arun\n",
      "arun\n"
     ]
    }
   ],
   "source": [
    "string1='arun'\n",
    "string2=\"arun\"\n",
    "string3='''arun'''\n",
    "print(string1)\n",
    "print(string2)\n",
    "print(string3)"
   ]
  },
  {
   "cell_type": "markdown",
   "id": "4338268a",
   "metadata": {},
   "source": [
    "name=\"arun kumar \n",
    "mohanty\"\n"
   ]
  },
  {
   "cell_type": "code",
   "execution_count": 17,
   "id": "c30796f8",
   "metadata": {},
   "outputs": [],
   "source": [
    "name='''arun kumar mohanty'''"
   ]
  },
  {
   "cell_type": "code",
   "execution_count": 18,
   "id": "6f59f9c8",
   "metadata": {},
   "outputs": [
    {
     "data": {
      "text/plain": [
       "'arun kumar mohanty'"
      ]
     },
     "execution_count": 18,
     "metadata": {},
     "output_type": "execute_result"
    }
   ],
   "source": [
    "name"
   ]
  },
  {
   "cell_type": "code",
   "execution_count": 19,
   "id": "9d8cda98",
   "metadata": {},
   "outputs": [
    {
     "data": {
      "text/plain": [
       "18"
      ]
     },
     "execution_count": 19,
     "metadata": {},
     "output_type": "execute_result"
    }
   ],
   "source": [
    "len(name)"
   ]
  },
  {
   "cell_type": "code",
   "execution_count": 20,
   "id": "54016fda",
   "metadata": {},
   "outputs": [
    {
     "data": {
      "text/plain": [
       "int"
      ]
     },
     "execution_count": 20,
     "metadata": {},
     "output_type": "execute_result"
    }
   ],
   "source": [
    "var1=123456\n",
    "type(var1)"
   ]
  },
  {
   "cell_type": "code",
   "execution_count": 21,
   "id": "369241f1",
   "metadata": {},
   "outputs": [
    {
     "data": {
      "text/plain": [
       "123456.0"
      ]
     },
     "execution_count": 21,
     "metadata": {},
     "output_type": "execute_result"
    }
   ],
   "source": [
    "float(var1)"
   ]
  },
  {
   "cell_type": "code",
   "execution_count": 22,
   "id": "40b4c54a",
   "metadata": {},
   "outputs": [
    {
     "data": {
      "text/plain": [
       "'100'"
      ]
     },
     "execution_count": 22,
     "metadata": {},
     "output_type": "execute_result"
    }
   ],
   "source": [
    "\n",
    "yup=100\n",
    "str(yup)"
   ]
  },
  {
   "cell_type": "code",
   "execution_count": 23,
   "id": "88a023fd",
   "metadata": {},
   "outputs": [],
   "source": [
    "x='si@123456'"
   ]
  },
  {
   "cell_type": "code",
   "execution_count": 24,
   "id": "d5edb8ac",
   "metadata": {},
   "outputs": [
    {
     "ename": "ValueError",
     "evalue": "invalid literal for int() with base 10: 'si@123456'",
     "output_type": "error",
     "traceback": [
      "\u001b[1;31m---------------------------------------------------------------------------\u001b[0m",
      "\u001b[1;31mValueError\u001b[0m                                Traceback (most recent call last)",
      "\u001b[1;32m~\\AppData\\Local\\Temp\\ipykernel_9092\\173064326.py\u001b[0m in \u001b[0;36m<module>\u001b[1;34m\u001b[0m\n\u001b[1;32m----> 1\u001b[1;33m \u001b[0mint\u001b[0m\u001b[1;33m(\u001b[0m\u001b[0mx\u001b[0m\u001b[1;33m)\u001b[0m\u001b[1;33m\u001b[0m\u001b[1;33m\u001b[0m\u001b[0m\n\u001b[0m",
      "\u001b[1;31mValueError\u001b[0m: invalid literal for int() with base 10: 'si@123456'"
     ]
    }
   ],
   "source": [
    "int(x)"
   ]
  },
  {
   "cell_type": "code",
   "execution_count": 4,
   "id": "cbbbbafa",
   "metadata": {},
   "outputs": [
    {
     "data": {
      "text/plain": [
       "5"
      ]
     },
     "execution_count": 4,
     "metadata": {},
     "output_type": "execute_result"
    }
   ],
   "source": [
    "mystring='hello'\n",
    "len(mystring)"
   ]
  },
  {
   "cell_type": "code",
   "execution_count": null,
   "id": "43763c44",
   "metadata": {},
   "outputs": [],
   "source": [
    "mystring[0]\n"
   ]
  },
  {
   "cell_type": "code",
   "execution_count": null,
   "id": "000209b5",
   "metadata": {},
   "outputs": [],
   "source": [
    "mystring[3]"
   ]
  },
  {
   "cell_type": "code",
   "execution_count": null,
   "id": "b84d22e0",
   "metadata": {},
   "outputs": [],
   "source": [
    "mystring[-2]"
   ]
  },
  {
   "cell_type": "code",
   "execution_count": null,
   "id": "31b8d66b",
   "metadata": {},
   "outputs": [],
   "source": [
    "mystring[-6]"
   ]
  },
  {
   "cell_type": "code",
   "execution_count": null,
   "id": "c14dc49d",
   "metadata": {},
   "outputs": [],
   "source": [
    "mystring[-5]"
   ]
  },
  {
   "cell_type": "code",
   "execution_count": null,
   "id": "158116d6",
   "metadata": {
    "scrolled": true
   },
   "outputs": [],
   "source": [
    "mystring[3.5]"
   ]
  },
  {
   "cell_type": "code",
   "execution_count": null,
   "id": "c0978c0d",
   "metadata": {},
   "outputs": [],
   "source": [
    "mystring[-1]"
   ]
  },
  {
   "cell_type": "markdown",
   "id": "dc759622",
   "metadata": {},
   "source": [
    "# slicing .......................................................................\n"
   ]
  },
  {
   "cell_type": "code",
   "execution_count": null,
   "id": "720f3a71",
   "metadata": {},
   "outputs": [],
   "source": [
    "mystring[2:5:1]"
   ]
  },
  {
   "cell_type": "code",
   "execution_count": null,
   "id": "b6bd7709",
   "metadata": {},
   "outputs": [],
   "source": [
    "mystring[0:5:1]"
   ]
  },
  {
   "cell_type": "code",
   "execution_count": null,
   "id": "dfa90e67",
   "metadata": {},
   "outputs": [],
   "source": [
    "mystring[4:-4:1]"
   ]
  },
  {
   "cell_type": "code",
   "execution_count": null,
   "id": "51a97e8a",
   "metadata": {},
   "outputs": [],
   "source": [
    "mystring[4:-4:-1]\n",
    "# 4=\"0\",-4=>H(-1),E(-2),l(-3),l(-4),so \"oll\"\n"
   ]
  },
  {
   "cell_type": "code",
   "execution_count": null,
   "id": "89e34915",
   "metadata": {},
   "outputs": [],
   "source": [
    "mystring[4:0:-1]"
   ]
  },
  {
   "cell_type": "code",
   "execution_count": null,
   "id": "2820a3b6",
   "metadata": {},
   "outputs": [],
   "source": [
    "mystring[4:-1:-1]"
   ]
  },
  {
   "cell_type": "code",
   "execution_count": 5,
   "id": "5d629669",
   "metadata": {},
   "outputs": [
    {
     "data": {
      "text/plain": [
       "'olleh'"
      ]
     },
     "execution_count": 5,
     "metadata": {},
     "output_type": "execute_result"
    }
   ],
   "source": [
    "mystring[4::-1]"
   ]
  },
  {
   "cell_type": "code",
   "execution_count": null,
   "id": "111f81ef",
   "metadata": {},
   "outputs": [],
   "source": [
    "mystring[2:45]"
   ]
  },
  {
   "cell_type": "code",
   "execution_count": null,
   "id": "190a4074",
   "metadata": {},
   "outputs": [],
   "source": [
    "mystring[::-1]"
   ]
  },
  {
   "cell_type": "code",
   "execution_count": null,
   "id": "4dc0d837",
   "metadata": {},
   "outputs": [],
   "source": [
    "mystring[4::-1]"
   ]
  },
  {
   "cell_type": "code",
   "execution_count": 3,
   "id": "6af39919",
   "metadata": {},
   "outputs": [
    {
     "ename": "NameError",
     "evalue": "name 'mystring' is not defined",
     "output_type": "error",
     "traceback": [
      "\u001b[1;31m---------------------------------------------------------------------------\u001b[0m",
      "\u001b[1;31mNameError\u001b[0m                                 Traceback (most recent call last)",
      "\u001b[1;32m~\\AppData\\Local\\Temp\\ipykernel_5512\\3876246082.py\u001b[0m in \u001b[0;36m<module>\u001b[1;34m\u001b[0m\n\u001b[1;32m----> 1\u001b[1;33m \u001b[0mmystring\u001b[0m\u001b[1;33m[\u001b[0m\u001b[1;36m0\u001b[0m\u001b[1;33m:\u001b[0m\u001b[1;33m:\u001b[0m\u001b[1;33m-\u001b[0m\u001b[1;36m1\u001b[0m\u001b[1;33m]\u001b[0m\u001b[1;33m\u001b[0m\u001b[1;33m\u001b[0m\u001b[0m\n\u001b[0m",
      "\u001b[1;31mNameError\u001b[0m: name 'mystring' is not defined"
     ]
    }
   ],
   "source": [
    "mystring[0::-1]"
   ]
  },
  {
   "cell_type": "code",
   "execution_count": null,
   "id": "3c9709c9",
   "metadata": {},
   "outputs": [],
   "source": [
    "mystring[5:-6:-1]"
   ]
  },
  {
   "cell_type": "code",
   "execution_count": null,
   "id": "94976441",
   "metadata": {},
   "outputs": [],
   "source": [
    "mystring[0:6:1]"
   ]
  },
  {
   "cell_type": "markdown",
   "id": "f182110c",
   "metadata": {},
   "source": [
    "# String concatenation...................\n"
   ]
  },
  {
   "cell_type": "code",
   "execution_count": null,
   "id": "29ff152d",
   "metadata": {},
   "outputs": [],
   "source": [
    "\"hello\"+\"world\"\n"
   ]
  },
  {
   "cell_type": "code",
   "execution_count": null,
   "id": "0f119e52",
   "metadata": {},
   "outputs": [],
   "source": [
    "\"hello\"+\" \"+\"world\""
   ]
  },
  {
   "cell_type": "code",
   "execution_count": null,
   "id": "c2c30174",
   "metadata": {},
   "outputs": [],
   "source": [
    "\"AT\"*5"
   ]
  },
  {
   "cell_type": "code",
   "execution_count": null,
   "id": "e5b085db",
   "metadata": {},
   "outputs": [],
   "source": [
    "\"ARUN\"+2"
   ]
  },
  {
   "cell_type": "code",
   "execution_count": null,
   "id": "bbf91a6f",
   "metadata": {},
   "outputs": [],
   "source": [
    "\"ARUN\"+\"2\""
   ]
  },
  {
   "cell_type": "code",
   "execution_count": null,
   "id": "5404a232",
   "metadata": {},
   "outputs": [],
   "source": [
    "\"ARUN\"*2"
   ]
  },
  {
   "cell_type": "code",
   "execution_count": null,
   "id": "4aac26eb",
   "metadata": {},
   "outputs": [],
   "source": [
    "\"ARUN\"+str(2)"
   ]
  },
  {
   "cell_type": "code",
   "execution_count": 14,
   "id": "59187caf",
   "metadata": {},
   "outputs": [],
   "source": [
    "a=[\" i\",\"as\",\"asaasa\",\"aasaas\" ]"
   ]
  },
  {
   "cell_type": "code",
   "execution_count": 16,
   "id": "04e92528",
   "metadata": {},
   "outputs": [
    {
     "data": {
      "text/plain": [
       "' i am arn kumar mohanty'"
      ]
     },
     "execution_count": 16,
     "metadata": {},
     "output_type": "execute_result"
    }
   ],
   "source": [
    "\"\".join(a)"
   ]
  },
  {
   "cell_type": "code",
   "execution_count": null,
   "id": "adb07f10",
   "metadata": {},
   "outputs": [],
   "source": [
    "sum=\"arun\"\n",
    "run=100\n",
    "print(\"congratulations!\"+sum+\"you won  rs\"+str(run))"
   ]
  },
  {
   "cell_type": "code",
   "execution_count": null,
   "id": "b2310568",
   "metadata": {},
   "outputs": [],
   "source": [
    "print(\"congratulations!\",sum,\"you won  rs\",run)"
   ]
  },
  {
   "cell_type": "markdown",
   "id": "d5a70249",
   "metadata": {},
   "source": [
    "# string immutable......................\n",
    "\n"
   ]
  },
  {
   "cell_type": "code",
   "execution_count": null,
   "id": "afa22857",
   "metadata": {},
   "outputs": [],
   "source": [
    "mystring=\"hello\"\n",
    "mystring[4]"
   ]
  },
  {
   "cell_type": "code",
   "execution_count": null,
   "id": "ae86a676",
   "metadata": {},
   "outputs": [],
   "source": [
    "mystring=\"hello\"\n",
    "mystring[4]='s' #strings are immutable"
   ]
  },
  {
   "cell_type": "code",
   "execution_count": null,
   "id": "b7d7263d",
   "metadata": {},
   "outputs": [],
   "source": [
    "# strings are immutble because elements of the strings can not be changed once it has been assigned.\n",
    "# we can simply reassign a new string to the same name."
   ]
  },
  {
   "cell_type": "code",
   "execution_count": null,
   "id": "d5db1fb0",
   "metadata": {},
   "outputs": [],
   "source": [
    "a=\"  python\"\n",
    "a.strip()"
   ]
  },
  {
   "cell_type": "code",
   "execution_count": null,
   "id": "b7817864",
   "metadata": {},
   "outputs": [],
   "source": [
    "a=\"   phy  \"\n",
    "a.lstrip()"
   ]
  },
  {
   "cell_type": "code",
   "execution_count": 8,
   "id": "27dac213",
   "metadata": {},
   "outputs": [
    {
     "data": {
      "text/plain": [
       "'Good morning'"
      ]
     },
     "execution_count": 8,
     "metadata": {},
     "output_type": "execute_result"
    }
   ],
   "source": [
    "a=\"good morning\"\n",
    "a.capitalize()"
   ]
  },
  {
   "cell_type": "code",
   "execution_count": null,
   "id": "833b7ae0",
   "metadata": {},
   "outputs": [],
   "source": [
    "a.capitalize()"
   ]
  },
  {
   "cell_type": "code",
   "execution_count": null,
   "id": "840d948d",
   "metadata": {},
   "outputs": [],
   "source": [
    "a.title()"
   ]
  },
  {
   "cell_type": "code",
   "execution_count": null,
   "id": "d56464d8",
   "metadata": {},
   "outputs": [],
   "source": [
    "a.upper()\n"
   ]
  },
  {
   "cell_type": "code",
   "execution_count": null,
   "id": "0280b902",
   "metadata": {},
   "outputs": [],
   "source": [
    "a.lower()"
   ]
  },
  {
   "cell_type": "code",
   "execution_count": 9,
   "id": "e88c57fc",
   "metadata": {},
   "outputs": [
    {
     "data": {
      "text/plain": [
       "7"
      ]
     },
     "execution_count": 9,
     "metadata": {},
     "output_type": "execute_result"
    }
   ],
   "source": [
    "a.find(\"r\")"
   ]
  },
  {
   "cell_type": "code",
   "execution_count": 10,
   "id": "0e33a29a",
   "metadata": {},
   "outputs": [
    {
     "data": {
      "text/plain": [
       "-1"
      ]
     },
     "execution_count": 10,
     "metadata": {},
     "output_type": "execute_result"
    }
   ],
   "source": [
    "a.find(\"x\")"
   ]
  },
  {
   "cell_type": "code",
   "execution_count": 12,
   "id": "5dfcc29e",
   "metadata": {},
   "outputs": [
    {
     "data": {
      "text/plain": [
       "7"
      ]
     },
     "execution_count": 12,
     "metadata": {},
     "output_type": "execute_result"
    }
   ],
   "source": [
    "a.index(\"r\")"
   ]
  },
  {
   "cell_type": "code",
   "execution_count": 13,
   "id": "01dd4896",
   "metadata": {},
   "outputs": [
    {
     "ename": "ValueError",
     "evalue": "substring not found",
     "output_type": "error",
     "traceback": [
      "\u001b[1;31m---------------------------------------------------------------------------\u001b[0m",
      "\u001b[1;31mValueError\u001b[0m                                Traceback (most recent call last)",
      "\u001b[1;32m~\\AppData\\Local\\Temp\\ipykernel_5512\\2519603497.py\u001b[0m in \u001b[0;36m<module>\u001b[1;34m\u001b[0m\n\u001b[1;32m----> 1\u001b[1;33m \u001b[0ma\u001b[0m\u001b[1;33m.\u001b[0m\u001b[0mindex\u001b[0m\u001b[1;33m(\u001b[0m\u001b[1;34m\"x\"\u001b[0m\u001b[1;33m)\u001b[0m\u001b[1;33m\u001b[0m\u001b[1;33m\u001b[0m\u001b[0m\n\u001b[0m",
      "\u001b[1;31mValueError\u001b[0m: substring not found"
     ]
    }
   ],
   "source": [
    "a.index(\"x\")          #  interview ques  ... find gives -1 as o/p if variable not fund but index gives error"
   ]
  },
  {
   "cell_type": "markdown",
   "id": "4425810c",
   "metadata": {},
   "source": [
    "# print ......"
   ]
  },
  {
   "cell_type": "code",
   "execution_count": null,
   "id": "d78e5b3c",
   "metadata": {
    "scrolled": true
   },
   "outputs": [],
   "source": [
    "n=input()\n",
    "\n",
    "\n",
    "\n"
   ]
  },
  {
   "cell_type": "code",
   "execution_count": null,
   "id": "fb7fa2f3",
   "metadata": {},
   "outputs": [],
   "source": [
    "n"
   ]
  },
  {
   "cell_type": "code",
   "execution_count": null,
   "id": "b4a95932",
   "metadata": {},
   "outputs": [],
   "source": [
    "print(n)"
   ]
  },
  {
   "cell_type": "code",
   "execution_count": null,
   "id": "818e57d3",
   "metadata": {},
   "outputs": [],
   "source": [
    "type(print(n))"
   ]
  },
  {
   "cell_type": "code",
   "execution_count": null,
   "id": "63156d05",
   "metadata": {},
   "outputs": [],
   "source": [
    "type(print(n))"
   ]
  },
  {
   "cell_type": "code",
   "execution_count": null,
   "id": "1155ab3e",
   "metadata": {},
   "outputs": [],
   "source": [
    "n=5\n"
   ]
  },
  {
   "cell_type": "code",
   "execution_count": null,
   "id": "85d693b6",
   "metadata": {},
   "outputs": [],
   "source": [
    "n"
   ]
  },
  {
   "cell_type": "code",
   "execution_count": null,
   "id": "00693395",
   "metadata": {},
   "outputs": [],
   "source": [
    "print(n)"
   ]
  },
  {
   "cell_type": "code",
   "execution_count": null,
   "id": "bc79e9a5",
   "metadata": {},
   "outputs": [],
   "source": [
    "n1=input(\"enter your age:\")\n",
    "n1"
   ]
  },
  {
   "cell_type": "code",
   "execution_count": null,
   "id": "09cee648",
   "metadata": {},
   "outputs": [],
   "source": [
    "n2=int(input(\"enter your age::\"))\n",
    "n2\n"
   ]
  },
  {
   "cell_type": "code",
   "execution_count": null,
   "id": "b310ec03",
   "metadata": {},
   "outputs": [],
   "source": [
    "a1=input(\"whats your name:\")\n",
    "print(\"you are wellcome\"+a1+\"!\")"
   ]
  },
  {
   "cell_type": "markdown",
   "id": "e8daecee",
   "metadata": {},
   "source": [
    "# SPLIT FUNCTION......"
   ]
  },
  {
   "cell_type": "code",
   "execution_count": null,
   "id": "304a3000",
   "metadata": {},
   "outputs": [],
   "source": [
    "VAR1,VAR2 =input(\"ENTER YOUR NAME:\").split(' ')\n",
    "print (VAR1)\n",
    "print (VAR2)"
   ]
  },
  {
   "cell_type": "code",
   "execution_count": null,
   "id": "50789b9b",
   "metadata": {},
   "outputs": [],
   "source": [
    "n1=10\n",
    "n2=20\n",
    "n3=30\n",
    "if(n1>(n2>n3)): \n",
    "  print(n1)"
   ]
  },
  {
   "cell_type": "markdown",
   "id": "494aaa56",
   "metadata": {},
   "source": [
    "# arithmetic operators\n"
   ]
  },
  {
   "cell_type": "code",
   "execution_count": null,
   "id": "dda69ec4",
   "metadata": {},
   "outputs": [],
   "source": [
    "2=+4\n"
   ]
  },
  {
   "cell_type": "code",
   "execution_count": null,
   "id": "457d5886",
   "metadata": {},
   "outputs": [],
   "source": [
    "2+=4\n"
   ]
  },
  {
   "cell_type": "code",
   "execution_count": null,
   "id": "d17ccdf4",
   "metadata": {},
   "outputs": [],
   "source": [
    "2+3"
   ]
  },
  {
   "cell_type": "code",
   "execution_count": null,
   "id": "d3f716bb",
   "metadata": {},
   "outputs": [],
   "source": [
    "a=2+3\n",
    "b=4+3\n",
    "a,b\n",
    "print(a,b)"
   ]
  },
  {
   "cell_type": "code",
   "execution_count": null,
   "id": "79a95ae0",
   "metadata": {},
   "outputs": [],
   "source": [
    "10/6"
   ]
  },
  {
   "cell_type": "code",
   "execution_count": null,
   "id": "a54d79d2",
   "metadata": {},
   "outputs": [],
   "source": [
    "10/5 # always gives a float number."
   ]
  },
  {
   "cell_type": "code",
   "execution_count": null,
   "id": "76330f26",
   "metadata": {},
   "outputs": [],
   "source": [
    "10//4 # floor divison .......for getting quotient"
   ]
  },
  {
   "cell_type": "code",
   "execution_count": null,
   "id": "2036565d",
   "metadata": {},
   "outputs": [],
   "source": [
    "10%4 # modulo .......for reminder "
   ]
  },
  {
   "cell_type": "code",
   "execution_count": null,
   "id": "5c4dc98b",
   "metadata": {},
   "outputs": [],
   "source": [
    "4**5 # power / exponent"
   ]
  },
  {
   "cell_type": "code",
   "execution_count": null,
   "id": "635245bb",
   "metadata": {},
   "outputs": [],
   "source": [
    "#parenthesis\n",
    "(2*5/4*9)+(3*9/9)"
   ]
  },
  {
   "cell_type": "raw",
   "id": "6e57be70",
   "metadata": {},
   "source": [
    "# ARITHMETIC OPERTIONS PROCEDURE :\n",
    "1:Parenthesis\n",
    "2:exponent\n",
    "3:floor divison\n",
    "4:divison/substraction\n",
    "5:modulo\n",
    "6:addition/substraction\n"
   ]
  },
  {
   "cell_type": "code",
   "execution_count": null,
   "id": "930a408f",
   "metadata": {},
   "outputs": [],
   "source": [
    "a=(input())\n",
    "s=0\n",
    "s=s+1\n",
    "s\n",
    "print(a)\n"
   ]
  },
  {
   "cell_type": "code",
   "execution_count": null,
   "id": "ffc54d58",
   "metadata": {},
   "outputs": [],
   "source": [
    "wt=float(input(\"enter your weights in kg:\"))\n",
    "htu=(input(\"If you want to enter height in feet enter : f  or for meter enter m:===\"))\n",
    "if (htu==\"F\" or htu==\"f\"):\n",
    "    feet=int(input(\"enter  feet:\"))\n",
    "    inch=int(input(\"enter inches:\"))\n",
    "    ht=float(((feet*12)+inch)*0.0254)\n",
    "    print(\"height\",ht)\n",
    "elif(htu==\"M\" or htu==\"m\"): \n",
    "    ht=float(input(\"enter height in meters:\"))\n",
    "else:\n",
    "        print(\"re-enter correct unit of height:\")\n",
    "        print(\"thank you\")\n",
    "if(ht<=0):\n",
    "    print(\"please enter correct height\")\n",
    "if(wt>0 and ht>0 and ( (htu==\"F\"or htu==\"f\") or (htu==\"M\" or htu==\"m\") )):\n",
    "    BMI=(wt/ht**2)\n",
    "    print(\"BMI:\",BMI)\n",
    "    if(BMI<18.5):\n",
    "        print(\"BMI-UNDERWEIGHT\")\n",
    "    elif(BMI>=18.5 and BMI<25):\n",
    "        print(\"BMI-NORMAL\")\n",
    "        \n",
    "    elif(BMI>=25 and BMI<30):\n",
    "        print(\"BMI-OVERWEIGHT\")\n",
    "    elif(BMI>30):\n",
    "        print(\"BMI-VERY OVERWEIGHT\")\n",
    "    else:\n",
    "        print(\"enter correct height and weight\")"
   ]
  },
  {
   "cell_type": "code",
   "execution_count": null,
   "id": "3f471c94",
   "metadata": {},
   "outputs": [],
   "source": [
    "wt=(input(\"enter your weights in kg:\"))\n",
    "wt"
   ]
  },
  {
   "cell_type": "code",
   "execution_count": null,
   "id": "138ce50f",
   "metadata": {},
   "outputs": [],
   "source": [
    "eret=input()\n",
    "if(int(eret)>0): \n",
    "    print(\"ok\")\n",
    "    "
   ]
  },
  {
   "cell_type": "code",
   "execution_count": null,
   "id": "312e7e9d",
   "metadata": {},
   "outputs": [],
   "source": [
    "w=(input(\"enter your weights in kg:\"))\n",
    "\n",
    "if(w.isnumeric()== True ) :\n",
    "    wt=int(w)\n",
    "    if(wt>0):\n",
    "        htu=(input(\"If you want to enter height in feet enter : f  or for meter enter m:===\"))\n",
    "        if (htu==\"F\" or htu==\"f\"):\n",
    "            feet=int(input(\"enter  feet:\"))\n",
    "            inch=int(input(\"enter inches:\"))\n",
    "            ht=float(((feet*12)+inch)*0.0254)\n",
    "            print(\"height\",ht)\n",
    "        elif(htu==\"M\" or htu==\"m\"): \n",
    "            ht=float(input(\"enter height in meters:\"))\n",
    "        else:\n",
    "            print(\"re-enter correct unit of height:\")\n",
    "            print(\"thank you\")\n",
    "        if(ht<=0):\n",
    "            print(\"please enter correct height\")\n",
    "    else:\n",
    "        print(\"enter weight more than zero\")\n",
    "    \n",
    "    if(wt>0 and ht>0 and ( (htu==\"F\"or htu==\"f\") or (htu==\"M\" or htu==\"m\") )):\n",
    "        BMI=(wt/ht**2)\n",
    "        print(\"BMI:\",BMI)\n",
    "        if(BMI<18.5):\n",
    "            print(\"BMI-UNDERWEIGHT\")\n",
    "        elif(BMI>=18.5 and BMI<25):\n",
    "            print(\"BMI-NORMAL\")\n",
    "        elif(BMI>=25 and BMI<30):\n",
    "            print(\"BMI-OVERWEIGHT\")\n",
    "        elif(BMI>30):\n",
    "            print(\"BMI-VERY OVERWEIGHT\")\n",
    "    else:\n",
    "        print(\"enter correct height and weight\")\n",
    "else:\n",
    "    print(\"please enter weight in digital form\")\n",
    "    \n"
   ]
  },
  {
   "cell_type": "markdown",
   "id": "517d812d",
   "metadata": {},
   "source": [
    "# LIST........\n"
   ]
  },
  {
   "cell_type": "code",
   "execution_count": null,
   "id": "838f988c",
   "metadata": {},
   "outputs": [],
   "source": [
    "L=[]                 # EMPTY LIST\n",
    "L"
   ]
  },
  {
   "cell_type": "code",
   "execution_count": 27,
   "id": "b41a9a21",
   "metadata": {},
   "outputs": [
    {
     "data": {
      "text/plain": [
       "[]"
      ]
     },
     "execution_count": 27,
     "metadata": {},
     "output_type": "execute_result"
    }
   ],
   "source": [
    "l= list()           # empty list\n",
    "l"
   ]
  },
  {
   "cell_type": "code",
   "execution_count": null,
   "id": "6f660494",
   "metadata": {},
   "outputs": [],
   "source": [
    "l1=[1,2,3,4]\n",
    "l1\n"
   ]
  },
  {
   "cell_type": "code",
   "execution_count": null,
   "id": "d081398c",
   "metadata": {},
   "outputs": [],
   "source": [
    "l=[1,2,3+4j,True,\"new\",\"s231\"]   # can print heterogeneous items\n",
    "l"
   ]
  },
  {
   "cell_type": "code",
   "execution_count": 28,
   "id": "e2da235b",
   "metadata": {},
   "outputs": [
    {
     "data": {
      "text/plain": [
       "3"
      ]
     },
     "execution_count": 28,
     "metadata": {},
     "output_type": "execute_result"
    }
   ],
   "source": [
    "r=[1,3+5j,\"run\"]   # length of list\n",
    "len(r)\n"
   ]
  },
  {
   "cell_type": "code",
   "execution_count": 29,
   "id": "e3e4766a",
   "metadata": {},
   "outputs": [
    {
     "data": {
      "text/plain": [
       "[1, 3, [3, 4], 5]"
      ]
     },
     "execution_count": 29,
     "metadata": {},
     "output_type": "execute_result"
    }
   ],
   "source": [
    "d=[1,3,[3,4],5]    # nexted list\n",
    "d"
   ]
  },
  {
   "cell_type": "code",
   "execution_count": 30,
   "id": "5ab0212d",
   "metadata": {},
   "outputs": [
    {
     "data": {
      "text/plain": [
       "1"
      ]
     },
     "execution_count": 30,
     "metadata": {},
     "output_type": "execute_result"
    }
   ],
   "source": [
    "d[0]"
   ]
  },
  {
   "cell_type": "code",
   "execution_count": 31,
   "id": "59734a0c",
   "metadata": {},
   "outputs": [
    {
     "data": {
      "text/plain": [
       "[3, 4]"
      ]
     },
     "execution_count": 31,
     "metadata": {},
     "output_type": "execute_result"
    }
   ],
   "source": [
    "d[2]"
   ]
  },
  {
   "cell_type": "code",
   "execution_count": 32,
   "id": "cc856385",
   "metadata": {},
   "outputs": [
    {
     "data": {
      "text/plain": [
       "3"
      ]
     },
     "execution_count": 32,
     "metadata": {},
     "output_type": "execute_result"
    }
   ],
   "source": [
    "d[2][0] # list indexing"
   ]
  },
  {
   "cell_type": "code",
   "execution_count": null,
   "id": "05b4ec03",
   "metadata": {},
   "outputs": [],
   "source": [
    "a=[1,3,[45,[76,76],56],56,8]\n",
    "a[2][1][0]"
   ]
  },
  {
   "cell_type": "markdown",
   "id": "b027c667",
   "metadata": {},
   "source": [
    "### list are mutable\n"
   ]
  },
  {
   "cell_type": "code",
   "execution_count": null,
   "id": "ed1ffb02",
   "metadata": {},
   "outputs": [],
   "source": [
    "f=[4,5,66,5]\n",
    "print(f)\n",
    "id(f)"
   ]
  },
  {
   "cell_type": "code",
   "execution_count": null,
   "id": "ee457268",
   "metadata": {},
   "outputs": [],
   "source": [
    "# id remains same \n",
    "f[3]=56\n",
    "print(f)\n",
    "id(f)   "
   ]
  },
  {
   "cell_type": "markdown",
   "id": "f44a3a83",
   "metadata": {},
   "source": [
    "# list slicing"
   ]
  },
  {
   "cell_type": "code",
   "execution_count": 25,
   "id": "9fc734b5",
   "metadata": {},
   "outputs": [
    {
     "data": {
      "text/plain": [
       "[23, 3]"
      ]
     },
     "execution_count": 25,
     "metadata": {},
     "output_type": "execute_result"
    }
   ],
   "source": [
    "a=[21,23,3,44,45,5]\n",
    "a[1:3]\n"
   ]
  },
  {
   "cell_type": "code",
   "execution_count": null,
   "id": "7453e3a6",
   "metadata": {},
   "outputs": [],
   "source": [
    "# string concatenation\n",
    "a1=[12,\"ere\",45,56,34]\n",
    "a2=[34,43,5,54,54]\n",
    "c=a1+a2\n",
    "c\n"
   ]
  },
  {
   "cell_type": "markdown",
   "id": "7e92d0a1",
   "metadata": {},
   "source": [
    "# list append "
   ]
  },
  {
   "cell_type": "code",
   "execution_count": 33,
   "id": "7bfb25e0",
   "metadata": {},
   "outputs": [
    {
     "data": {
      "text/plain": [
       "[12, 23, 34, 53, 32, 34, 67, 564]"
      ]
     },
     "execution_count": 33,
     "metadata": {},
     "output_type": "execute_result"
    }
   ],
   "source": [
    "# used to add element at the end of list\n",
    "a=[12,23,34,53,32,34,67]\n",
    "a.append(564)\n",
    "a\n"
   ]
  },
  {
   "cell_type": "code",
   "execution_count": 34,
   "id": "36563486",
   "metadata": {},
   "outputs": [
    {
     "data": {
      "text/plain": [
       "[23, 43, 45, 3, 53, [8, 9]]"
      ]
     },
     "execution_count": 34,
     "metadata": {},
     "output_type": "execute_result"
    }
   ],
   "source": [
    "a=[23,43,45,3,53]\n",
    "a.append([8,9])\n",
    "a"
   ]
  },
  {
   "cell_type": "code",
   "execution_count": null,
   "id": "db330527",
   "metadata": {},
   "outputs": [],
   "source": [
    "# list.exend() --adds item individually at last"
   ]
  },
  {
   "cell_type": "code",
   "execution_count": 36,
   "id": "1dd897a3",
   "metadata": {},
   "outputs": [
    {
     "data": {
      "text/plain": [
       "[23, 34, 45, 3, 43, 2, 1, 8, 9]"
      ]
     },
     "execution_count": 36,
     "metadata": {},
     "output_type": "execute_result"
    }
   ],
   "source": [
    "s=[23,34,45,3,43,2,1]\n",
    "s.extend([8,9])\n",
    "s"
   ]
  },
  {
   "cell_type": "code",
   "execution_count": 37,
   "id": "5994b7b0",
   "metadata": {},
   "outputs": [
    {
     "data": {
      "text/plain": [
       "[2, 4, [3, 4, 56, 6], 1, 3, [4, 5], 5, [6, 7, 88]]"
      ]
     },
     "execution_count": 37,
     "metadata": {},
     "output_type": "execute_result"
    }
   ],
   "source": [
    "r=[2,4,[3,4,56,6]]\n",
    "r.extend([1,3,[4,5],5,[6,7,88]])\n",
    "r\n"
   ]
  },
  {
   "cell_type": "markdown",
   "id": "b93c028f",
   "metadata": {},
   "source": [
    "# list.insert()....insert in a spcific order and list.inser(x,y) will add element y at location x\n"
   ]
  },
  {
   "cell_type": "code",
   "execution_count": 38,
   "id": "c3d4b3c6",
   "metadata": {},
   "outputs": [
    {
     "name": "stdout",
     "output_type": "stream",
     "text": [
      "['one', 'two', 'three', 'four']\n"
     ]
    }
   ],
   "source": [
    "tt=[\"one\",\"two\",\"four\"]\n",
    "tt.insert(2,\"three\")\n",
    "tt\n",
    "print(tt)"
   ]
  },
  {
   "cell_type": "markdown",
   "id": "b114c394",
   "metadata": {},
   "source": [
    "# list.remove()-o remove the items basd on values\n"
   ]
  },
  {
   "cell_type": "code",
   "execution_count": null,
   "id": "b901dc27",
   "metadata": {},
   "outputs": [],
   "source": []
  },
  {
   "cell_type": "code",
   "execution_count": 39,
   "id": "a69dabfd",
   "metadata": {},
   "outputs": [
    {
     "data": {
      "text/plain": [
       "[20, 30, 40, 50]"
      ]
     },
     "execution_count": 39,
     "metadata": {},
     "output_type": "execute_result"
    }
   ],
   "source": [
    "n=[10,20,30,40,50]\n",
    "n.remove(10)\n",
    "n"
   ]
  },
  {
   "cell_type": "markdown",
   "id": "eccea778",
   "metadata": {},
   "source": [
    "# list.pop()-to remove an item based on index numbers ."
   ]
  },
  {
   "cell_type": "code",
   "execution_count": 40,
   "id": "c4703a1d",
   "metadata": {},
   "outputs": [
    {
     "data": {
      "text/plain": [
       "[10, 30, 40, 50]"
      ]
     },
     "execution_count": 40,
     "metadata": {},
     "output_type": "execute_result"
    }
   ],
   "source": [
    "n=[10,20,30,40,50]\n",
    "n.pop(1)\n",
    "n\n"
   ]
  },
  {
   "cell_type": "code",
   "execution_count": 41,
   "id": "9347970f",
   "metadata": {},
   "outputs": [
    {
     "data": {
      "text/plain": [
       "[30, 40]"
      ]
     },
     "execution_count": 41,
     "metadata": {},
     "output_type": "execute_result"
    }
   ],
   "source": [
    "n=[10,20,30,40]\n",
    "del n[0:2]\n",
    "n"
   ]
  },
  {
   "cell_type": "code",
   "execution_count": null,
   "id": "9b2448ad",
   "metadata": {},
   "outputs": [],
   "source": [
    "a=[1,2,3,4]\n",
    "a.clear()\n",
    "a\n"
   ]
  },
  {
   "cell_type": "code",
   "execution_count": 42,
   "id": "43196b0a",
   "metadata": {},
   "outputs": [
    {
     "data": {
      "text/plain": [
       "[[2, 4], 4, 3, 2, 1]"
      ]
     },
     "execution_count": 42,
     "metadata": {},
     "output_type": "execute_result"
    }
   ],
   "source": [
    "#list reverse\n",
    "a=[1,2,3,4,[2,4]]\n",
    "list.reverse(a)\n",
    "a"
   ]
  },
  {
   "cell_type": "code",
   "execution_count": 43,
   "id": "03ff4d31",
   "metadata": {},
   "outputs": [
    {
     "data": {
      "text/plain": [
       "[1, 4.2, 5, 5, 20]"
      ]
     },
     "execution_count": 43,
     "metadata": {},
     "output_type": "execute_result"
    }
   ],
   "source": [
    "#list sort\n",
    "lst=[1,20,5,5,4.2]\n",
    "lst.sort()\n",
    "lst"
   ]
  },
  {
   "cell_type": "code",
   "execution_count": 44,
   "id": "f6525e79",
   "metadata": {},
   "outputs": [
    {
     "data": {
      "text/plain": [
       "[20, 5, 5, 4.2, 1]"
      ]
     },
     "execution_count": 44,
     "metadata": {},
     "output_type": "execute_result"
    }
   ],
   "source": [
    "#list sort DESCENDING\n",
    "lst=[1,20,5,5,4.2]\n",
    "lst.sort(reverse=True)\n",
    "lst"
   ]
  },
  {
   "cell_type": "code",
   "execution_count": 45,
   "id": "7058e6fc",
   "metadata": {},
   "outputs": [
    {
     "name": "stdout",
     "output_type": "stream",
     "text": [
      "[1, 4.2, 5, 20]\n"
     ]
    },
    {
     "data": {
      "text/plain": [
       "[1, 20, 5, 4.2]"
      ]
     },
     "execution_count": 45,
     "metadata": {},
     "output_type": "execute_result"
    }
   ],
   "source": [
    "# sort -only alphabet or only numeric\n",
    "lst=[1,20,5,4.2]\n",
    "print(sorted(lst))\n",
    "lst"
   ]
  },
  {
   "cell_type": "code",
   "execution_count": null,
   "id": "a43b876a",
   "metadata": {},
   "outputs": [],
   "source": [
    "n=input(\"phone no:\")\n",
    "r=len(n)\n",
    "print (\"lenght\",r)\n",
    "while r>0:\n",
    "    r=r-1\n",
    "    s=s+int(n[r-1])\n",
    "    print(s)\n",
    "g=(s//10)+(s%10)\n",
    "print(\"single digit value \",g)  \n"
   ]
  },
  {
   "cell_type": "code",
   "execution_count": null,
   "id": "5f5b83e5",
   "metadata": {},
   "outputs": [],
   "source": [
    "n=input(\"phone no:\")\n",
    "r=len(n)\n",
    "print (\"lenght\",r)\n",
    "s=0\n",
    "g=0\n",
    "while True:\n",
    "    while r>0:\n",
    "        r=r-1\n",
    "        s=s+int(n[r-1])\n",
    "        print(s)\n",
    "    g=(s//10)+(s%10)\n",
    "    print(\"g value\",g)\n",
    "    if len(str(g))==1:\n",
    "       break\n",
    "    else:\n",
    "        n=str(g)\n",
    "        r=len(str(g))\n",
    "        s=0\n",
    "        g=0\n",
    "print(\"single digit value \",g)  "
   ]
  },
  {
   "cell_type": "code",
   "execution_count": null,
   "id": "56ca162e",
   "metadata": {},
   "outputs": [],
   "source": [
    "# for loop\n",
    "\n"
   ]
  },
  {
   "cell_type": "code",
   "execution_count": null,
   "id": "8f6efccd",
   "metadata": {},
   "outputs": [],
   "source": [
    "number=input(\"enter your phone number\")\n",
    "sum=0\n",
    "for i in number:\n",
    "    sum=sum+int(i)\n",
    "    if sum > 9:\n",
    "        i=str(sum)\n",
    "        s=int(i[0])+int(i[1])\n",
    "        if sum > 9:\n",
    "            j=str(sum)\n",
    "            s=int(j[0])+int(j[1])\n",
    "print(s)            "
   ]
  },
  {
   "cell_type": "code",
   "execution_count": null,
   "id": "11a7b943",
   "metadata": {},
   "outputs": [],
   "source": [
    "import os\n",
    "os.getcwd()"
   ]
  },
  {
   "cell_type": "code",
   "execution_count": null,
   "id": "390ba2d7",
   "metadata": {},
   "outputs": [],
   "source": [
    "import pandas as pd\n",
    "l=[78.0,87.0]\n",
    "s=pd.Series(l)\n",
    "print(s)"
   ]
  },
  {
   "cell_type": "code",
   "execution_count": null,
   "id": "04a0964d",
   "metadata": {},
   "outputs": [],
   "source": [
    "import pandas as pd\n",
    "df=pd.read_excel(\"D:\\\\jupiter note nook naresh\\\\aru1234.xlsx\")\n",
    "df"
   ]
  },
  {
   "cell_type": "code",
   "execution_count": null,
   "id": "48f54ede",
   "metadata": {},
   "outputs": [],
   "source": [
    "import pickle  \n",
    "df.to_pickle('D:\\\\jupiter note nook naresh\\\\aru1234.pkl')\n",
    "df"
   ]
  },
  {
   "cell_type": "code",
   "execution_count": null,
   "id": "d79e1940",
   "metadata": {},
   "outputs": [],
   "source": [
    "\n",
    "\n",
    "with open(\"D:\\\\jupiter note nook naresh\\\\aru1234.pkl\", \"rb\") as f:\n",
    "    file = pkl.load(f)\n",
    "     \n",
    "df = pd.DataFrame(file)\n",
    "df"
   ]
  },
  {
   "cell_type": "markdown",
   "id": "24105dcc",
   "metadata": {},
   "source": [
    " lst=[\n",
    "print(lst.sort())"
   ]
  },
  {
   "cell_type": "code",
   "execution_count": 46,
   "id": "b13df1e6",
   "metadata": {},
   "outputs": [
    {
     "data": {
      "text/plain": [
       "[12, 12, 32, 32, 1232]"
      ]
     },
     "execution_count": 46,
     "metadata": {},
     "output_type": "execute_result"
    }
   ],
   "source": [
    "lst=[12,32,1232,12,32]\n",
    "(lst.sort())\n",
    "lst\n",
    "\n"
   ]
  },
  {
   "cell_type": "code",
   "execution_count": 47,
   "id": "b3e3fc62",
   "metadata": {},
   "outputs": [
    {
     "name": "stdout",
     "output_type": "stream",
     "text": [
      "3\n"
     ]
    }
   ],
   "source": [
    "n=[1,2,3,334,12,1,23,41,1,34]  \n",
    "print(n.count(1))"
   ]
  },
  {
   "cell_type": "code",
   "execution_count": 48,
   "id": "44e486b8",
   "metadata": {},
   "outputs": [
    {
     "name": "stdout",
     "output_type": "stream",
     "text": [
      "1\n"
     ]
    }
   ],
   "source": [
    "# list.count()....no of same type occuring in list.\n",
    "n=[1,2,3,334,\"a\",1,23,41,1,34]  \n",
    "print(n.count(334))"
   ]
  },
  {
   "cell_type": "code",
   "execution_count": 49,
   "id": "c25fb7c0",
   "metadata": {
    "scrolled": true
   },
   "outputs": [
    {
     "ename": "TypeError",
     "evalue": "'<' not supported between instances of 'str' and 'int'",
     "output_type": "error",
     "traceback": [
      "\u001b[1;31m---------------------------------------------------------------------------\u001b[0m",
      "\u001b[1;31mTypeError\u001b[0m                                 Traceback (most recent call last)",
      "\u001b[1;32m~\\AppData\\Local\\Temp\\ipykernel_9092\\908576172.py\u001b[0m in \u001b[0;36m<module>\u001b[1;34m\u001b[0m\n\u001b[0;32m      1\u001b[0m \u001b[0mlst\u001b[0m\u001b[1;33m=\u001b[0m\u001b[1;33m[\u001b[0m\u001b[1;36m12\u001b[0m\u001b[1;33m,\u001b[0m\u001b[1;34m\"a\"\u001b[0m\u001b[1;33m,\u001b[0m\u001b[1;36m1232\u001b[0m\u001b[1;33m,\u001b[0m\u001b[1;36m12\u001b[0m\u001b[1;33m,\u001b[0m\u001b[1;36m32\u001b[0m\u001b[1;33m]\u001b[0m\u001b[1;33m\u001b[0m\u001b[1;33m\u001b[0m\u001b[0m\n\u001b[1;32m----> 2\u001b[1;33m \u001b[0mlst\u001b[0m\u001b[1;33m.\u001b[0m\u001b[0msort\u001b[0m\u001b[1;33m(\u001b[0m\u001b[1;33m)\u001b[0m\u001b[1;33m\u001b[0m\u001b[1;33m\u001b[0m\u001b[0m\n\u001b[0m\u001b[0;32m      3\u001b[0m \u001b[0mprint\u001b[0m\u001b[1;33m(\u001b[0m\u001b[0mlst\u001b[0m\u001b[1;33m)\u001b[0m\u001b[1;33m\u001b[0m\u001b[1;33m\u001b[0m\u001b[0m\n",
      "\u001b[1;31mTypeError\u001b[0m: '<' not supported between instances of 'str' and 'int'"
     ]
    }
   ],
   "source": [
    "lst=[12,\"a\",1232,12,32]\n",
    "lst.sort()\n",
    "print(lst)"
   ]
  },
  {
   "cell_type": "code",
   "execution_count": null,
   "id": "60d0cee9",
   "metadata": {},
   "outputs": [],
   "source": [
    "# shallow copy- copy of original object is stored and only refernce address is finally copied\n",
    "l1=[1,2,3]\n",
    "l2=l1.copy()\n",
    "l2.append(6)\n",
    "print(l1)\n",
    "print(l2)\n"
   ]
  },
  {
   "cell_type": "code",
   "execution_count": 50,
   "id": "347bee2b",
   "metadata": {},
   "outputs": [
    {
     "name": "stdout",
     "output_type": "stream",
     "text": [
      "[1, 2, 3, 4]\n"
     ]
    },
    {
     "data": {
      "text/plain": [
       "[1, 2, 3, 4]"
      ]
     },
     "execution_count": 50,
     "metadata": {},
     "output_type": "execute_result"
    }
   ],
   "source": [
    "# deep copy ...original and reference list are same\n",
    "l1=[1,2,3]\n",
    "l2=l1\n",
    "l2.append(4)\n",
    "print(l1)\n",
    "l2"
   ]
  },
  {
   "cell_type": "code",
   "execution_count": null,
   "id": "5cecbd8e",
   "metadata": {},
   "outputs": [],
   "source": []
  }
 ],
 "metadata": {
  "kernelspec": {
   "display_name": "Python 3 (ipykernel)",
   "language": "python",
   "name": "python3"
  },
  "language_info": {
   "codemirror_mode": {
    "name": "ipython",
    "version": 3
   },
   "file_extension": ".py",
   "mimetype": "text/x-python",
   "name": "python",
   "nbconvert_exporter": "python",
   "pygments_lexer": "ipython3",
   "version": "3.9.13"
  }
 },
 "nbformat": 4,
 "nbformat_minor": 5
}
